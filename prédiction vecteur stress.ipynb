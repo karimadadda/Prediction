{
 "cells": [
  {
   "cell_type": "code",
   "execution_count": 1,
   "id": "c4271f12",
   "metadata": {},
   "outputs": [],
   "source": [
    "import tensorflow as tf\n",
    "import numpy as np\n",
    "import pandas as pd\n",
    "from sklearn.model_selection import train_test_split"
   ]
  },
  {
   "cell_type": "code",
   "execution_count": 2,
   "id": "8fb0c820",
   "metadata": {},
   "outputs": [],
   "source": [
    "# Charger les données à partir du fichier Excel\n",
    "chemin_fichier = \"Truss.xlsx\"\n",
    "data = pd.read_excel(chemin_fichier)"
   ]
  },
  {
   "cell_type": "code",
   "execution_count": 3,
   "id": "eaf76f1e",
   "metadata": {},
   "outputs": [],
   "source": [
    "# Collecte des données d'entraînement\n",
    "X= data[['csa1','csa2','csa3','csa4','csa5','csa6','csa7','csa8','csa9','csa10',]]  # Vecteur des aires des sections transversales (100 exemples)\n",
    "y = data[['stress1','stress2','stress3','stress4', 'stress5', 'stress6', 'stress7', 'stress8', 'stress9', 'stress10']]  # Vecteur des contraintes correspondantes"
   ]
  },
  {
   "cell_type": "code",
   "execution_count": 4,
   "id": "35905c20",
   "metadata": {},
   "outputs": [
    {
     "name": "stdout",
     "output_type": "stream",
     "text": [
      "Training set size:  12800\n",
      "Validation set size:  3200\n",
      "Test set size:  4000\n"
     ]
    }
   ],
   "source": [
    "X_train, X_test, y_train, y_test = train_test_split(X, y, test_size=0.2, random_state=42)\n",
    "X_train, X_val, y_train, y_val = train_test_split(X_train, y_train, test_size=0.2, random_state=42)\n",
    "print(\"Training set size: \", len(X_train))\n",
    "print(\"Validation set size: \", len(X_val))\n",
    "print(\"Test set size: \", len(X_test))"
   ]
  },
  {
   "cell_type": "code",
   "execution_count": 5,
   "id": "af7ef4d5",
   "metadata": {},
   "outputs": [],
   "source": [
    "# Création du modèle du réseau de neurones\n",
    "model = tf.keras.models.Sequential([\n",
    "    tf.keras.layers.Dense(64, activation='relu', input_shape=(10,), kernel_regularizer=tf.keras.regularizers.l2(0.01)),\n",
    "    tf.keras.layers.Dropout(0.2),\n",
    "    tf.keras.layers.Dense(64, activation='relu', kernel_regularizer=tf.keras.regularizers.l2(0.01)),\n",
    "    tf.keras.layers.Dropout(0.2),\n",
    "    tf.keras.layers.Dense(10)\n",
    "])"
   ]
  },
  {
   "cell_type": "code",
   "execution_count": 6,
   "id": "2c9acd7d",
   "metadata": {},
   "outputs": [
    {
     "name": "stdout",
     "output_type": "stream",
     "text": [
      "Model: \"sequential\"\n",
      "_________________________________________________________________\n",
      "Layer (type)                 Output Shape              Param #   \n",
      "=================================================================\n",
      "dense (Dense)                (None, 64)                704       \n",
      "_________________________________________________________________\n",
      "dropout (Dropout)            (None, 64)                0         \n",
      "_________________________________________________________________\n",
      "dense_1 (Dense)              (None, 64)                4160      \n",
      "_________________________________________________________________\n",
      "dropout_1 (Dropout)          (None, 64)                0         \n",
      "_________________________________________________________________\n",
      "dense_2 (Dense)              (None, 10)                650       \n",
      "=================================================================\n",
      "Total params: 5,514\n",
      "Trainable params: 5,514\n",
      "Non-trainable params: 0\n",
      "_________________________________________________________________\n"
     ]
    }
   ],
   "source": [
    "# Compilation du modèle\n",
    "model.compile(optimizer='adam',\n",
    "              loss=tf.keras.losses.MeanSquaredError(),\n",
    "              metrics=['accuracy'])\n",
    "model.summary()"
   ]
  },
  {
   "cell_type": "code",
   "execution_count": 7,
   "id": "bdf1cf64",
   "metadata": {},
   "outputs": [],
   "source": [
    "\n",
    "# Callback pour l'early stopping\n",
    "early_stopping = tf.keras.callbacks.EarlyStopping(monitor='val_loss', patience=5)\n"
   ]
  },
  {
   "cell_type": "code",
   "execution_count": 8,
   "id": "b75034c0",
   "metadata": {},
   "outputs": [
    {
     "name": "stdout",
     "output_type": "stream",
     "text": [
      "Epoch 1/100\n",
      "400/400 [==============================] - 1s 3ms/step - loss: 25423388893773824.0000 - accuracy: 0.1631 - val_loss: 23011028170178560.0000 - val_accuracy: 0.0872\n",
      "Epoch 2/100\n",
      "400/400 [==============================] - 1s 2ms/step - loss: 25422935774724096.0000 - accuracy: 0.1077 - val_loss: 23010087572340736.0000 - val_accuracy: 0.0872\n",
      "Epoch 3/100\n",
      "400/400 [==============================] - 1s 2ms/step - loss: 25421318719537152.0000 - accuracy: 0.0846 - val_loss: 23007671653236736.0000 - val_accuracy: 0.0872\n",
      "Epoch 4/100\n",
      "400/400 [==============================] - 1s 2ms/step - loss: 25418041659490304.0000 - accuracy: 0.0840 - val_loss: 23003378833424384.0000 - val_accuracy: 0.0872\n",
      "Epoch 5/100\n",
      "400/400 [==============================] - 1s 2ms/step - loss: 25412750259781632.0000 - accuracy: 0.0833 - val_loss: 22996940677447680.0000 - val_accuracy: 0.0872\n",
      "Epoch 6/100\n",
      "400/400 [==============================] - 1s 2ms/step - loss: 25405210444693504.0000 - accuracy: 0.0834 - val_loss: 22988082307399680.0000 - val_accuracy: 0.0872\n",
      "Epoch 7/100\n",
      "400/400 [==============================] - 1s 2ms/step - loss: 25395085059293184.0000 - accuracy: 0.0834 - val_loss: 22976430061125632.0000 - val_accuracy: 0.0872\n",
      "Epoch 8/100\n",
      "400/400 [==============================] - 1s 2ms/step - loss: 25382157207732224.0000 - accuracy: 0.0834 - val_loss: 22961925956567040.0000 - val_accuracy: 0.0872\n",
      "Epoch 9/100\n",
      "400/400 [==============================] - 1s 2ms/step - loss: 25366620163538944.0000 - accuracy: 0.0834 - val_loss: 22944645155651584.0000 - val_accuracy: 0.0872\n",
      "Epoch 10/100\n",
      "400/400 [==============================] - 1s 2ms/step - loss: 25348042282500096.0000 - accuracy: 0.0834 - val_loss: 22924332107825152.0000 - val_accuracy: 0.0872\n",
      "Epoch 11/100\n",
      "400/400 [==============================] - 1s 2ms/step - loss: 25326307600498688.0000 - accuracy: 0.0834 - val_loss: 22900877291421696.0000 - val_accuracy: 0.0872\n",
      "Epoch 12/100\n",
      "400/400 [==============================] - 1s 3ms/step - loss: 25301542819069952.0000 - accuracy: 0.0834 - val_loss: 22874306476244992.0000 - val_accuracy: 0.0872\n",
      "Epoch 13/100\n",
      "400/400 [==============================] - 1s 3ms/step - loss: 25273380718510080.0000 - accuracy: 0.0834 - val_loss: 22844432831217664.0000 - val_accuracy: 0.0872\n",
      "Epoch 14/100\n",
      "400/400 [==============================] - 1s 3ms/step - loss: 25242074701889536.0000 - accuracy: 0.0834 - val_loss: 22811181194412032.0000 - val_accuracy: 0.0872\n",
      "Epoch 15/100\n",
      "400/400 [==============================] - 1s 3ms/step - loss: 25208247539466240.0000 - accuracy: 0.0834 - val_loss: 22774618137821184.0000 - val_accuracy: 0.0872\n",
      "Epoch 16/100\n",
      "400/400 [==============================] - 1s 2ms/step - loss: 25169880596611072.0000 - accuracy: 0.0834 - val_loss: 22734443013734400.0000 - val_accuracy: 0.0872\n",
      "Epoch 17/100\n",
      "400/400 [==============================] - 1s 2ms/step - loss: 25128363295244288.0000 - accuracy: 0.0834 - val_loss: 22690718099177472.0000 - val_accuracy: 0.0872\n",
      "Epoch 18/100\n",
      "400/400 [==============================] - 1s 3ms/step - loss: 25083427199909888.0000 - accuracy: 0.0834 - val_loss: 22643404739444736.0000 - val_accuracy: 0.0872\n",
      "Epoch 19/100\n",
      "400/400 [==============================] - 1s 3ms/step - loss: 25035093785444352.0000 - accuracy: 0.0834 - val_loss: 22592548031692800.0000 - val_accuracy: 0.0872\n",
      "Epoch 20/100\n",
      "400/400 [==============================] - 1s 2ms/step - loss: 24983234202828800.0000 - accuracy: 0.0834 - val_loss: 22537948259942400.0000 - val_accuracy: 0.0872\n",
      "Epoch 21/100\n",
      "400/400 [==============================] - 1s 3ms/step - loss: 24927721750528000.0000 - accuracy: 0.0834 - val_loss: 22479483017625600.0000 - val_accuracy: 0.0872\n",
      "Epoch 22/100\n",
      "400/400 [==============================] - 1s 3ms/step - loss: 24866917898518528.0000 - accuracy: 0.0834 - val_loss: 22416974063599616.0000 - val_accuracy: 0.0872\n",
      "Epoch 23/100\n",
      "400/400 [==============================] - 1s 3ms/step - loss: 24803893548417024.0000 - accuracy: 0.0834 - val_loss: 22350887401816064.0000 - val_accuracy: 0.0872\n",
      "Epoch 24/100\n",
      "400/400 [==============================] - 1s 2ms/step - loss: 24737218476113920.0000 - accuracy: 0.0834 - val_loss: 22280791388061696.0000 - val_accuracy: 0.0872\n",
      "Epoch 25/100\n",
      "400/400 [==============================] - 1s 3ms/step - loss: 24665236971716608.0000 - accuracy: 0.0834 - val_loss: 22206948015341568.0000 - val_accuracy: 0.0872\n",
      "Epoch 26/100\n",
      "400/400 [==============================] - 1s 3ms/step - loss: 24590407904002048.0000 - accuracy: 0.0834 - val_loss: 22129415265714176.0000 - val_accuracy: 0.0872\n",
      "Epoch 27/100\n",
      "400/400 [==============================] - 1s 3ms/step - loss: 24512198697025536.0000 - accuracy: 0.0834 - val_loss: 22048248973754368.0000 - val_accuracy: 0.0872\n",
      "Epoch 28/100\n",
      "400/400 [==============================] - 1s 3ms/step - loss: 24433209953484800.0000 - accuracy: 0.0834 - val_loss: 21963575840997376.0000 - val_accuracy: 0.0872\n",
      "Epoch 29/100\n",
      "400/400 [==============================] - 1s 3ms/step - loss: 24343915435917312.0000 - accuracy: 0.0834 - val_loss: 21874723705061376.0000 - val_accuracy: 0.0872\n",
      "Epoch 30/100\n",
      "400/400 [==============================] - 1s 3ms/step - loss: 24256521441378304.0000 - accuracy: 0.0834 - val_loss: 21782332516073472.0000 - val_accuracy: 0.0872\n",
      "Epoch 31/100\n",
      "400/400 [==============================] - 1s 3ms/step - loss: 24162167452336128.0000 - accuracy: 0.0834 - val_loss: 21686863983017984.0000 - val_accuracy: 0.0872\n",
      "Epoch 32/100\n",
      "400/400 [==============================] - 1s 3ms/step - loss: 24068483478192128.0000 - accuracy: 0.0834 - val_loss: 21587759760146432.0000 - val_accuracy: 0.0872\n",
      "Epoch 33/100\n",
      "400/400 [==============================] - 1s 2ms/step - loss: 23971284073316352.0000 - accuracy: 0.0834 - val_loss: 21485535243534336.0000 - val_accuracy: 0.0872\n",
      "Epoch 34/100\n",
      "400/400 [==============================] - 1s 2ms/step - loss: 23864283553071104.0000 - accuracy: 0.0834 - val_loss: 21379956357464064.0000 - val_accuracy: 0.0872\n",
      "Epoch 35/100\n",
      "400/400 [==============================] - 1s 2ms/step - loss: 23761006769471488.0000 - accuracy: 0.0834 - val_loss: 21271970142224384.0000 - val_accuracy: 0.0872\n",
      "Epoch 36/100\n",
      "400/400 [==============================] - 1s 2ms/step - loss: 23652380604104704.0000 - accuracy: 0.0834 - val_loss: 21160809946152960.0000 - val_accuracy: 0.0872\n",
      "Epoch 37/100\n",
      "400/400 [==============================] - ETA: 0s - loss: 23872480498155520.0000 - accuracy: 0.08 - 1s 3ms/step - loss: 23543455938510848.0000 - accuracy: 0.0834 - val_loss: 21047175848919040.0000 - val_accuracy: 0.0872\n",
      "Epoch 38/100\n",
      "400/400 [==============================] - 1s 3ms/step - loss: 23432330102177792.0000 - accuracy: 0.0834 - val_loss: 20931551034343424.0000 - val_accuracy: 0.0872\n",
      "Epoch 39/100\n",
      "400/400 [==============================] - 1s 3ms/step - loss: 23322116946395136.0000 - accuracy: 0.0834 - val_loss: 20813591905042432.0000 - val_accuracy: 0.0872\n",
      "Epoch 40/100\n",
      "400/400 [==============================] - 1s 3ms/step - loss: 23202976701087744.0000 - accuracy: 0.0834 - val_loss: 20693723662778368.0000 - val_accuracy: 0.0872\n",
      "Epoch 41/100\n",
      "400/400 [==============================] - 1s 3ms/step - loss: 23082676814610432.0000 - accuracy: 0.0834 - val_loss: 20571570497912832.0000 - val_accuracy: 0.0872\n",
      "Epoch 42/100\n",
      "400/400 [==============================] - 1s 2ms/step - loss: 22958855054950400.0000 - accuracy: 0.0834 - val_loss: 20448356476125184.0000 - val_accuracy: 0.0872\n",
      "Epoch 43/100\n",
      "400/400 [==============================] - 1s 2ms/step - loss: 22841905242963968.0000 - accuracy: 0.0834 - val_loss: 20323935568527360.0000 - val_accuracy: 0.0872\n",
      "Epoch 44/100\n",
      "400/400 [==============================] - 1s 2ms/step - loss: 22712158575919104.0000 - accuracy: 0.0834 - val_loss: 20198069404434432.0000 - val_accuracy: 0.0872\n",
      "Epoch 45/100\n",
      "400/400 [==============================] - 1s 2ms/step - loss: 22599967587696640.0000 - accuracy: 0.0834 - val_loss: 20072491003150336.0000 - val_accuracy: 0.0872\n",
      "Epoch 46/100\n",
      "400/400 [==============================] - 1s 2ms/step - loss: 22474947532161024.0000 - accuracy: 0.0834 - val_loss: 19946371435986944.0000 - val_accuracy: 0.0872\n",
      "Epoch 47/100\n",
      "400/400 [==============================] - 1s 2ms/step - loss: 22347797172846592.0000 - accuracy: 0.0834 - val_loss: 19819921156341760.0000 - val_accuracy: 0.0872\n",
      "Epoch 48/100\n",
      "400/400 [==============================] - 1s 2ms/step - loss: 22222448552312832.0000 - accuracy: 0.0834 - val_loss: 19693541743656960.0000 - val_accuracy: 0.0872\n",
      "Epoch 49/100\n",
      "400/400 [==============================] - 1s 2ms/step - loss: 22085247969525760.0000 - accuracy: 0.0834 - val_loss: 19566999122214912.0000 - val_accuracy: 0.0872\n",
      "Epoch 50/100\n",
      "400/400 [==============================] - 1s 2ms/step - loss: 21977360538533888.0000 - accuracy: 0.0834 - val_loss: 19440963306913792.0000 - val_accuracy: 0.0872\n",
      "Epoch 51/100\n",
      "400/400 [==============================] - 1s 2ms/step - loss: 21855881683533824.0000 - accuracy: 0.1534 - val_loss: 19315953988796416.0000 - val_accuracy: 0.5391\n",
      "Epoch 52/100\n",
      "400/400 [==============================] - 1s 2ms/step - loss: 21735049221111808.0000 - accuracy: 0.4934 - val_loss: 19192291142926336.0000 - val_accuracy: 0.5391\n",
      "Epoch 53/100\n",
      "400/400 [==============================] - 1s 3ms/step - loss: 21609352708227072.0000 - accuracy: 0.5334 - val_loss: 19069528092704768.0000 - val_accuracy: 0.5391\n",
      "Epoch 54/100\n",
      "400/400 [==============================] - 1s 3ms/step - loss: 21500520384430080.0000 - accuracy: 0.5354 - val_loss: 18948049237704704.0000 - val_accuracy: 0.5391\n",
      "Epoch 55/100\n",
      "400/400 [==============================] - 1s 2ms/step - loss: 21377035779702784.0000 - accuracy: 0.5354 - val_loss: 18827476620804096.0000 - val_accuracy: 0.5391\n",
      "Epoch 56/100\n",
      "400/400 [==============================] - 1s 2ms/step - loss: 21257466037665792.0000 - accuracy: 0.5354 - val_loss: 18708677825396736.0000 - val_accuracy: 0.5391\n",
      "Epoch 57/100\n",
      "400/400 [==============================] - 1s 2ms/step - loss: 21149305876250624.0000 - accuracy: 0.5354 - val_loss: 18591914844487680.0000 - val_accuracy: 0.5391\n",
      "Epoch 58/100\n",
      "400/400 [==============================] - 1s 2ms/step - loss: 21041616013754368.0000 - accuracy: 0.5354 - val_loss: 18477069566476288.0000 - val_accuracy: 0.5391\n",
      "Epoch 59/100\n",
      "400/400 [==============================] - 1s 2ms/step - loss: 20921062724206592.0000 - accuracy: 0.5354 - val_loss: 18364163466199040.0000 - val_accuracy: 0.5391\n",
      "Epoch 60/100\n",
      "400/400 [==============================] - 1s 2ms/step - loss: 20822027220811776.0000 - accuracy: 0.5354 - val_loss: 18252917370781696.0000 - val_accuracy: 0.5391\n",
      "Epoch 61/100\n",
      "400/400 [==============================] - 1s 2ms/step - loss: 20703030856908800.0000 - accuracy: 0.5354 - val_loss: 18143814464045056.0000 - val_accuracy: 0.5391\n",
      "Epoch 62/100\n",
      "400/400 [==============================] - 1s 2ms/step - loss: 20610671880175616.0000 - accuracy: 0.5354 - val_loss: 18037432419090432.0000 - val_accuracy: 0.5391\n",
      "Epoch 63/100\n",
      "400/400 [==============================] - 1s 2ms/step - loss: 20503125899083776.0000 - accuracy: 0.5354 - val_loss: 17933186046623744.0000 - val_accuracy: 0.5391\n",
      "Epoch 64/100\n",
      "400/400 [==============================] - 1s 2ms/step - loss: 20408129812430848.0000 - accuracy: 0.5354 - val_loss: 17830967972462592.0000 - val_accuracy: 0.5391\n",
      "Epoch 65/100\n",
      "400/400 [==============================] - 1s 2ms/step - loss: 20320632738676736.0000 - accuracy: 0.5354 - val_loss: 17731442842796032.0000 - val_accuracy: 0.5391\n",
      "Epoch 66/100\n",
      "400/400 [==============================] - 1s 2ms/step - loss: 20227127005675520.0000 - accuracy: 0.5354 - val_loss: 17634556970532864.0000 - val_accuracy: 0.5391\n",
      "Epoch 67/100\n",
      "400/400 [==============================] - 1s 2ms/step - loss: 20131104421838848.0000 - accuracy: 0.5354 - val_loss: 17541508651548672.0000 - val_accuracy: 0.5391\n",
      "Epoch 68/100\n",
      "400/400 [==============================] - 1s 3ms/step - loss: 20046068364345344.0000 - accuracy: 0.5354 - val_loss: 17450352265658368.0000 - val_accuracy: 0.5391\n",
      "Epoch 69/100\n",
      "400/400 [==============================] - 1s 3ms/step - loss: 19955603468189696.0000 - accuracy: 0.5354 - val_loss: 17361944658837504.0000 - val_accuracy: 0.5391\n",
      "Epoch 70/100\n",
      "400/400 [==============================] - 1s 3ms/step - loss: 19872225268072448.0000 - accuracy: 0.5354 - val_loss: 17276799079677952.0000 - val_accuracy: 0.5391\n",
      "Epoch 71/100\n",
      "400/400 [==============================] - 1s 3ms/step - loss: 19783594322952192.0000 - accuracy: 0.5354 - val_loss: 17194025396207616.0000 - val_accuracy: 0.5391\n",
      "Epoch 72/100\n",
      "400/400 [==============================] - 1s 3ms/step - loss: 19714819011641344.0000 - accuracy: 0.5354 - val_loss: 17115278244577280.0000 - val_accuracy: 0.5391\n",
      "Epoch 73/100\n",
      "400/400 [==============================] - 1s 2ms/step - loss: 19642785967636480.0000 - accuracy: 0.5354 - val_loss: 17040102358253568.0000 - val_accuracy: 0.5391\n",
      "Epoch 74/100\n",
      "400/400 [==============================] - 1s 2ms/step - loss: 19576248334286848.0000 - accuracy: 0.5354 - val_loss: 16967751486668800.0000 - val_accuracy: 0.5391\n",
      "Epoch 75/100\n",
      "400/400 [==============================] - 1s 2ms/step - loss: 19502999814537216.0000 - accuracy: 0.5354 - val_loss: 16898545604886528.0000 - val_accuracy: 0.5391\n",
      "Epoch 76/100\n",
      "400/400 [==============================] - 1s 3ms/step - loss: 19441341264035840.0000 - accuracy: 0.5354 - val_loss: 16832506187743232.0000 - val_accuracy: 0.5391\n",
      "Epoch 77/100\n",
      "400/400 [==============================] - 1s 3ms/step - loss: 19385626948272128.0000 - accuracy: 0.5354 - val_loss: 16770747779252224.0000 - val_accuracy: 0.5391\n",
      "Epoch 78/100\n",
      "400/400 [==============================] - 1s 2ms/step - loss: 19337134620016640.0000 - accuracy: 0.5354 - val_loss: 16711629701906432.0000 - val_accuracy: 0.5391\n",
      "Epoch 79/100\n",
      "400/400 [==============================] - 1s 3ms/step - loss: 19284008022048768.0000 - accuracy: 0.5354 - val_loss: 16655983031877632.0000 - val_accuracy: 0.5391\n",
      "Epoch 80/100\n",
      "400/400 [==============================] - 1s 3ms/step - loss: 19236174971273216.0000 - accuracy: 0.5354 - val_loss: 16603777704394752.0000 - val_accuracy: 0.5391\n",
      "Epoch 81/100\n",
      "400/400 [==============================] - 1s 2ms/step - loss: 19172137008889856.0000 - accuracy: 0.5354 - val_loss: 16553521218322432.0000 - val_accuracy: 0.5391\n",
      "Epoch 82/100\n",
      "400/400 [==============================] - 1s 2ms/step - loss: 19118525079617536.0000 - accuracy: 0.5354 - val_loss: 16506291610451968.0000 - val_accuracy: 0.5391\n",
      "Epoch 83/100\n",
      "400/400 [==============================] - 1s 2ms/step - loss: 19077613368639488.0000 - accuracy: 0.5354 - val_loss: 16461935335702528.0000 - val_accuracy: 0.5391\n",
      "Epoch 84/100\n",
      "400/400 [==============================] - 1s 2ms/step - loss: 19057858666561536.0000 - accuracy: 0.5354 - val_loss: 16420538293420032.0000 - val_accuracy: 0.5391\n",
      "Epoch 85/100\n",
      "400/400 [==============================] - 1s 2ms/step - loss: 19025427368509440.0000 - accuracy: 0.5354 - val_loss: 16381686019260416.0000 - val_accuracy: 0.5391\n",
      "Epoch 86/100\n",
      "400/400 [==============================] - 1s 3ms/step - loss: 18972281443188736.0000 - accuracy: 0.5354 - val_loss: 16345476223729664.0000 - val_accuracy: 0.5391\n",
      "Epoch 87/100\n",
      "400/400 [==============================] - 1s 2ms/step - loss: 18942429272997888.0000 - accuracy: 0.5354 - val_loss: 16310959719055360.0000 - val_accuracy: 0.5391\n",
      "Epoch 88/100\n",
      "400/400 [==============================] - 1s 2ms/step - loss: 18895231877382144.0000 - accuracy: 0.5354 - val_loss: 16278059195826176.0000 - val_accuracy: 0.5391\n",
      "Epoch 89/100\n",
      "400/400 [==============================] - 1s 2ms/step - loss: 18884210991300608.0000 - accuracy: 0.5354 - val_loss: 16248306883624960.0000 - val_accuracy: 0.5391\n",
      "Epoch 90/100\n",
      "400/400 [==============================] - 1s 3ms/step - loss: 18860653095682048.0000 - accuracy: 0.5354 - val_loss: 16220318729240576.0000 - val_accuracy: 0.5391\n",
      "Epoch 91/100\n",
      "400/400 [==============================] - 1s 3ms/step - loss: 18822971200110592.0000 - accuracy: 0.5354 - val_loss: 16193607253884928.0000 - val_accuracy: 0.5391\n",
      "Epoch 92/100\n",
      "400/400 [==============================] - 1s 2ms/step - loss: 18799187818708992.0000 - accuracy: 0.5354 - val_loss: 16169693949722624.0000 - val_accuracy: 0.5391\n",
      "Epoch 93/100\n",
      "400/400 [==============================] - 1s 3ms/step - loss: 18801996727320576.0000 - accuracy: 0.5354 - val_loss: 16147380520878080.0000 - val_accuracy: 0.5391\n",
      "Epoch 94/100\n",
      "400/400 [==============================] - 1s 2ms/step - loss: 18766060735954944.0000 - accuracy: 0.5354 - val_loss: 16126310485065728.0000 - val_accuracy: 0.5391\n",
      "Epoch 95/100\n",
      "400/400 [==============================] - 1s 3ms/step - loss: 18763034931494912.0000 - accuracy: 0.5354 - val_loss: 16107080842739712.0000 - val_accuracy: 0.5391\n",
      "Epoch 96/100\n",
      "400/400 [==============================] - 1s 2ms/step - loss: 18736966627491840.0000 - accuracy: 0.5354 - val_loss: 16089222368722944.0000 - val_accuracy: 0.5391\n",
      "Epoch 97/100\n",
      "400/400 [==============================] - 1s 3ms/step - loss: 18707421547462656.0000 - accuracy: 0.5354 - val_loss: 16073015309631488.0000 - val_accuracy: 0.5391\n",
      "Epoch 98/100\n",
      "400/400 [==============================] - 1s 2ms/step - loss: 18686962470748160.0000 - accuracy: 0.5354 - val_loss: 16057209829982208.0000 - val_accuracy: 0.5391\n",
      "Epoch 99/100\n",
      "400/400 [==============================] - 1s 2ms/step - loss: 18678735460892672.0000 - accuracy: 0.5354 - val_loss: 16042914031337472.0000 - val_accuracy: 0.5391\n",
      "Epoch 100/100\n",
      "400/400 [==============================] - 1s 2ms/step - loss: 18689528713707520.0000 - accuracy: 0.5354 - val_loss: 16030384537993216.0000 - val_accuracy: 0.5391\n"
     ]
    },
    {
     "data": {
      "text/plain": [
       "<tensorflow.python.keras.callbacks.History at 0x1cf0c7c5af0>"
      ]
     },
     "execution_count": 8,
     "metadata": {},
     "output_type": "execute_result"
    }
   ],
   "source": [
    "\n",
    "# Entraînement du modèle\n",
    "model.fit(X_train, y_train, epochs=100, batch_size=32, validation_data=(X_val, y_val), callbacks=[early_stopping])\n"
   ]
  },
  {
   "cell_type": "code",
   "execution_count": 9,
   "id": "94e512a8",
   "metadata": {},
   "outputs": [
    {
     "name": "stdout",
     "output_type": "stream",
     "text": [
      "125/125 [==============================] - 0s 1ms/step - loss: 15583042219278336.0000 - accuracy: 0.5288\n",
      "Perte : 1.5583042219278336e+16\n",
      "Précision : 0.5287500023841858\n"
     ]
    }
   ],
   "source": [
    "# Évaluation du modèle sur l'ensemble de test\n",
    "loss, accuracy = model.evaluate(X_test, y_test)\n",
    "print(\"Perte :\", loss)\n",
    "print(\"Précision :\", accuracy)"
   ]
  },
  {
   "cell_type": "code",
   "execution_count": 10,
   "id": "e9b7949d",
   "metadata": {},
   "outputs": [
    {
     "name": "stdout",
     "output_type": "stream",
     "text": [
      "Prédiction : [[ 1.25585552e+08  9.61540640e+07  3.52742840e+07 ...  3.25413840e+07\n",
      "  -1.29462376e+08 -5.22624920e+07]\n",
      " [ 1.30821088e+08  1.00162592e+08  3.67448320e+07 ...  3.38979960e+07\n",
      "  -1.34859520e+08 -5.44412680e+07]\n",
      " [ 1.26573576e+08  9.69105280e+07  3.55517960e+07 ...  3.27973860e+07\n",
      "  -1.30480872e+08 -5.26736560e+07]\n",
      " ...\n",
      " [ 1.27908136e+08  9.79323040e+07  3.59266400e+07 ...  3.31432020e+07\n",
      "  -1.31856664e+08 -5.32290400e+07]\n",
      " [ 1.28254224e+08  9.81972960e+07  3.60238560e+07 ...  3.32328760e+07\n",
      "  -1.32213424e+08 -5.33730640e+07]\n",
      " [ 1.29967456e+08  9.95090400e+07  3.65050640e+07 ...  3.36768080e+07\n",
      "  -1.33979552e+08 -5.40860280e+07]]\n"
     ]
    }
   ],
   "source": [
    "# Exemple de prédiction sur un vecteur d'entrée donné\n",
    "#X_example = np.random.rand(1, 10)  # Vecteur d'entrée de test\n",
    "prediction = model.predict(X_test)\n",
    "print(\"Prédiction :\", prediction)\n"
   ]
  },
  {
   "cell_type": "code",
   "execution_count": 11,
   "id": "4d3f9a83",
   "metadata": {},
   "outputs": [
    {
     "data": {
      "text/plain": [
       "52034473.8514625"
      ]
     },
     "execution_count": 11,
     "metadata": {},
     "output_type": "execute_result"
    }
   ],
   "source": [
    "from sklearn.metrics import mean_squared_error,mean_absolute_error,explained_variance_score\n",
    "mean_absolute_error(y_test,prediction)"
   ]
  },
  {
   "cell_type": "code",
   "execution_count": null,
   "id": "fba4cfc4",
   "metadata": {},
   "outputs": [],
   "source": []
  }
 ],
 "metadata": {
  "kernelspec": {
   "display_name": "Python 3",
   "language": "python",
   "name": "python3"
  },
  "language_info": {
   "codemirror_mode": {
    "name": "ipython",
    "version": 3
   },
   "file_extension": ".py",
   "mimetype": "text/x-python",
   "name": "python",
   "nbconvert_exporter": "python",
   "pygments_lexer": "ipython3",
   "version": "3.8.8"
  }
 },
 "nbformat": 4,
 "nbformat_minor": 5
}
