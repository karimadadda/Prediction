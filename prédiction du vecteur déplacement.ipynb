{
 "cells": [
  {
   "cell_type": "markdown",
   "id": "2920ea75",
   "metadata": {},
   "source": [
    "#                                 Prédiction vecteur déplacement"
   ]
  },
  {
   "cell_type": "markdown",
   "id": "672ea2bc",
   "metadata": {},
   "source": [
    "Dans ce notebook nous allons utiliser la dataset TRUSS pour  proposer un modèle de réseaux de neurones artificiels, dans le but de prédire le vecteur déplacement à partir du vecteur aires des sections transversales (csa) ."
   ]
  },
  {
   "cell_type": "markdown",
   "id": "732c93f1",
   "metadata": {},
   "source": [
    "## Importation des bibliothèques"
   ]
  },
  {
   "cell_type": "code",
   "execution_count": 1,
   "id": "c22d3750",
   "metadata": {},
   "outputs": [],
   "source": [
    "import pandas as pd\n",
    "import numpy as np\n",
    "import matplotlib.pyplot as plt\n",
    "from sklearn.model_selection import train_test_split\n",
    "from sklearn.preprocessing import MinMaxScaler\n",
    "import tensorflow as tf\n",
    "from tensorflow import keras\n",
    "from tensorflow.keras.models import Sequential\n",
    "from tensorflow.keras.layers import Dense, Dropout"
   ]
  },
  {
   "cell_type": "markdown",
   "id": "0c6ede73",
   "metadata": {},
   "source": [
    "## Charger les données à partir du fichier Excel"
   ]
  },
  {
   "cell_type": "code",
   "execution_count": 2,
   "id": "8e2e1d63",
   "metadata": {},
   "outputs": [],
   "source": [
    "chemin_fichier = \"Truss.xlsx\"\n",
    "df = pd.read_excel(chemin_fichier)"
   ]
  },
  {
   "cell_type": "markdown",
   "id": "7c9c2226",
   "metadata": {},
   "source": [
    "## Préparation des données"
   ]
  },
  {
   "cell_type": "code",
   "execution_count": 3,
   "id": "912be22b",
   "metadata": {},
   "outputs": [],
   "source": [
    "X = df[['csa1','csa2','csa3','csa4','csa5','csa6','csa7','csa8','csa9','csa10',]]  # Variables d'entrée\n",
    "y = df[['dx1', 'dy1', 'dx2', 'dy2', 'dx3', 'dy3', 'dx4', 'dy4', 'dx5', 'dy5', 'dx6', 'dy6']]  # Vecteur de déplacement"
   ]
  },
  {
   "cell_type": "markdown",
   "id": "e615b2bb",
   "metadata": {},
   "source": [
    "## Diviser le dataset en esemble de training et testsets "
   ]
  },
  {
   "cell_type": "code",
   "execution_count": 4,
   "id": "d60dd6d9",
   "metadata": {},
   "outputs": [],
   "source": [
    "X_train, X_test, y_train, y_test = train_test_split(X, y, test_size=0.2, random_state=42)"
   ]
  },
  {
   "cell_type": "markdown",
   "id": "7116e377",
   "metadata": {},
   "source": [
    "## Diviser le training_set en training and validation_sets\n"
   ]
  },
  {
   "cell_type": "code",
   "execution_count": 5,
   "id": "2a3849b8",
   "metadata": {},
   "outputs": [],
   "source": [
    "X_train, X_val, y_train, y_val = train_test_split(X_train, y_train, test_size=0.2, random_state=42)"
   ]
  },
  {
   "cell_type": "code",
   "execution_count": 6,
   "id": "1eaab7a4",
   "metadata": {},
   "outputs": [
    {
     "name": "stdout",
     "output_type": "stream",
     "text": [
      "Training set size:  12800\n",
      "Validation set size:  3200\n",
      "Test set size:  4000\n"
     ]
    }
   ],
   "source": [
    "print(\"Training set size: \", len(X_train))\n",
    "print(\"Validation set size: \", len(X_val))\n",
    "print(\"Test set size: \", len(X_test))"
   ]
  },
  {
   "cell_type": "markdown",
   "id": "c54766b6",
   "metadata": {},
   "source": [
    "## Definir notre  modèle séquentiel"
   ]
  },
  {
   "cell_type": "markdown",
   "id": "da08281d",
   "metadata": {},
   "source": [
    "Le modèle séquentiel est composé par:\n",
    "une première couche dense a 64 neurones avec une fonction d'activation ReLU, ensuite on ajoute une couche de dropout au modèle pour éviter le surapprentissage,puis on ajoute une autre couche dense au modèle avec 64 neurones et une fonction d'activation ReLU et le droupout, finalement une dernière couche dense au modèle avec 12 neurones. La fonction d'activation utilisée ici est softmax."
   ]
  },
  {
   "cell_type": "code",
   "execution_count": 7,
   "id": "b1695ddd",
   "metadata": {},
   "outputs": [],
   "source": [
    "model = Sequential()\n",
    "model.add(Dense(64, activation='relu', input_shape=(10,)))\n",
    "model.add(Dropout(0.5))\n",
    "model.add(Dense(64, activation='relu'))\n",
    "model.add(Dropout(0.5))\n",
    "model.add(Dense(12, activation='softmax'))"
   ]
  },
  {
   "cell_type": "markdown",
   "id": "eda5a379",
   "metadata": {},
   "source": [
    "## Entrainement du modèle"
   ]
  },
  {
   "cell_type": "code",
   "execution_count": 8,
   "id": "f367330e",
   "metadata": {},
   "outputs": [
    {
     "name": "stdout",
     "output_type": "stream",
     "text": [
      "Model: \"sequential\"\n",
      "_________________________________________________________________\n",
      "Layer (type)                 Output Shape              Param #   \n",
      "=================================================================\n",
      "dense (Dense)                (None, 64)                704       \n",
      "_________________________________________________________________\n",
      "dropout (Dropout)            (None, 64)                0         \n",
      "_________________________________________________________________\n",
      "dense_1 (Dense)              (None, 64)                4160      \n",
      "_________________________________________________________________\n",
      "dropout_1 (Dropout)          (None, 64)                0         \n",
      "_________________________________________________________________\n",
      "dense_2 (Dense)              (None, 12)                780       \n",
      "=================================================================\n",
      "Total params: 5,644\n",
      "Trainable params: 5,644\n",
      "Non-trainable params: 0\n",
      "_________________________________________________________________\n"
     ]
    }
   ],
   "source": [
    "# Compile the model\n",
    "model.compile(loss='mean_squared_error', optimizer='adam', metrics=['acc'])\n",
    "model.summary()\n"
   ]
  },
  {
   "cell_type": "code",
   "execution_count": 9,
   "id": "bec0c347",
   "metadata": {},
   "outputs": [
    {
     "name": "stdout",
     "output_type": "stream",
     "text": [
      "Epoch 1/10\n",
      "100/100 [==============================] - 0s 4ms/step - loss: 0.0144 - acc: 0.6302 - val_loss: 0.0136 - val_acc: 0.9834\n",
      "Epoch 2/10\n",
      "100/100 [==============================] - 0s 2ms/step - loss: 0.0139 - acc: 0.5558 - val_loss: 0.0135 - val_acc: 0.9834\n",
      "Epoch 3/10\n",
      "100/100 [==============================] - 0s 2ms/step - loss: 0.0138 - acc: 0.6313 - val_loss: 0.0135 - val_acc: 0.9834\n",
      "Epoch 4/10\n",
      "100/100 [==============================] - 0s 2ms/step - loss: 0.0138 - acc: 0.6775 - val_loss: 0.0135 - val_acc: 0.9834\n",
      "Epoch 5/10\n",
      "100/100 [==============================] - 0s 2ms/step - loss: 0.0138 - acc: 0.7396 - val_loss: 0.0134 - val_acc: 0.9834\n",
      "Epoch 6/10\n",
      "100/100 [==============================] - 0s 2ms/step - loss: 0.0137 - acc: 0.8006 - val_loss: 0.0134 - val_acc: 0.9834\n",
      "Epoch 7/10\n",
      "100/100 [==============================] - 0s 3ms/step - loss: 0.0137 - acc: 0.8573 - val_loss: 0.0134 - val_acc: 0.9834\n",
      "Epoch 8/10\n",
      "100/100 [==============================] - 0s 3ms/step - loss: 0.0137 - acc: 0.9018 - val_loss: 0.0133 - val_acc: 0.9834\n",
      "Epoch 9/10\n",
      "100/100 [==============================] - 0s 3ms/step - loss: 0.0136 - acc: 0.9216 - val_loss: 0.0133 - val_acc: 0.9834\n",
      "Epoch 10/10\n",
      "100/100 [==============================] - 0s 3ms/step - loss: 0.0136 - acc: 0.9418 - val_loss: 0.0133 - val_acc: 0.9834\n"
     ]
    }
   ],
   "source": [
    "history=model.fit(X_train, y_train, batch_size=128, epochs=10, verbose=1, validation_data=(X_val, y_val))"
   ]
  },
  {
   "cell_type": "markdown",
   "id": "ef275b40",
   "metadata": {},
   "source": [
    "Nous atteignons rapidement une précision de 0,958 (95,8 %) sur les données d'apprentissage. Vérifions maintenant que le modèle est également performant sur l'ensemble de test. "
   ]
  },
  {
   "cell_type": "markdown",
   "id": "075f3002",
   "metadata": {},
   "source": [
    "## Evaluer  le modèle"
   ]
  },
  {
   "cell_type": "code",
   "execution_count": 10,
   "id": "75f53edb",
   "metadata": {},
   "outputs": [
    {
     "name": "stdout",
     "output_type": "stream",
     "text": [
      "Test accuracy: 0.9890000224113464\n"
     ]
    }
   ],
   "source": [
    "test_loss, test_acc = model.evaluate(X_test, y_test, verbose=0)\n",
    "print('Test accuracy:', test_acc)\n"
   ]
  },
  {
   "cell_type": "markdown",
   "id": "358bd416",
   "metadata": {},
   "source": [
    "La précision de l'ensemble de test s'avère être de 98,9 %, ce qui est bien supérieur à la précision de l'ensemble de formation. d'entraînement. Cet écart entre la précision de l'apprentissage et celle du test est un exemple de l'overfitting."
   ]
  },
  {
   "cell_type": "markdown",
   "id": "1534de45",
   "metadata": {},
   "source": [
    "##  Utiliser le réseau entraîné pour générer des prédictions sur de nouvelles données"
   ]
  },
  {
   "cell_type": "code",
   "execution_count": 19,
   "id": "2df341e0",
   "metadata": {},
   "outputs": [],
   "source": [
    "X_new=np.array(X_test)\n",
    "y_new=np.array(y_test)"
   ]
  },
  {
   "cell_type": "code",
   "execution_count": 20,
   "id": "1938a489",
   "metadata": {},
   "outputs": [],
   "source": [
    "predictions = model.predict(X_new)"
   ]
  },
  {
   "cell_type": "code",
   "execution_count": 21,
   "id": "c2c9bff8",
   "metadata": {},
   "outputs": [
    {
     "name": "stdout",
     "output_type": "stream",
     "text": [
      "Vecteur déplacement prédit :\n",
      "[[0.11372223 0.11363818 0.14920935 ... 0.04327709 0.0685018  0.00443901]\n",
      " [0.09945638 0.09963758 0.10713687 ... 0.07362299 0.0838905  0.02873012]\n",
      " [0.1064285  0.10649885 0.12311196 ... 0.06201322 0.07982327 0.01417074]\n",
      " ...\n",
      " [0.10460751 0.10467707 0.11821874 ... 0.06568324 0.08146036 0.01730314]\n",
      " [0.09952505 0.09970202 0.10734111 ... 0.07352314 0.08388144 0.02849596]\n",
      " [0.09921848 0.09939323 0.1067853  ... 0.07375889 0.08383111 0.02947892]]\n"
     ]
    }
   ],
   "source": [
    "print(\"Vecteur déplacement prédit :\")\n",
    "print(predictions)"
   ]
  },
  {
   "cell_type": "markdown",
   "id": "a06042b0",
   "metadata": {},
   "source": [
    "## calculer la métrique de l'erreur absolue moyenne (mean absolute error, MAE)"
   ]
  },
  {
   "cell_type": "code",
   "execution_count": 22,
   "id": "ffb0441f",
   "metadata": {},
   "outputs": [
    {
     "data": {
      "text/plain": [
       "0.10789342333361694"
      ]
     },
     "execution_count": 22,
     "metadata": {},
     "output_type": "execute_result"
    }
   ],
   "source": [
    "from sklearn.metrics import mean_squared_error,mean_absolute_error,explained_variance_score\n",
    "mean_absolute_error(y_new,predictions)"
   ]
  },
  {
   "cell_type": "markdown",
   "id": "3b895b3c",
   "metadata": {},
   "source": [
    "En moyenne, les prédictions diffèrent de 0.10  unité par rapport aux valeurs réelles. Cela indique une bonne capacité de prédiction, car les différences entre les prédictions et les valeurs réelles sont relativement faibles."
   ]
  }
 ],
 "metadata": {
  "kernelspec": {
   "display_name": "Python 3",
   "language": "python",
   "name": "python3"
  },
  "language_info": {
   "codemirror_mode": {
    "name": "ipython",
    "version": 3
   },
   "file_extension": ".py",
   "mimetype": "text/x-python",
   "name": "python",
   "nbconvert_exporter": "python",
   "pygments_lexer": "ipython3",
   "version": "3.8.8"
  }
 },
 "nbformat": 4,
 "nbformat_minor": 5
}
